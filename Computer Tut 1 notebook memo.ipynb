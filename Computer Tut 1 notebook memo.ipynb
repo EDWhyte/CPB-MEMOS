{
 "cells": [
  {
   "cell_type": "code",
   "execution_count": 1,
   "metadata": {
    "collapsed": false,
    "scrolled": true
   },
   "outputs": [
    {
     "data": {
      "image/png": "[encoded data removed]",
      "text/plain": [
       "<matplotlib.figure.Figure at 0x13f4fc871d0>"
      ]
     },
     "metadata": {},
     "output_type": "display_data"
    }
   ],
   "source": [
    "#!/usr/bin/env python\n",
    "\n",
    "from __future__ import division\n",
    "\n",
    "import numpy as np\n",
    "import matplotlib.pylab as plt\n",
    "\n",
    "\n",
    "def controllable_canonical_form(b, a):\n",
    "    \"\"\" Determine the controllable canonical state space representation.\n",
    "\n",
    "    b and a are numerator and denominator coefficients respectively,\n",
    "    sorted in descending powers of s.\n",
    "\n",
    "    The form used here is based on the document found at:\n",
    "    http://www.engr.mun.ca/~millan/Eng6825/canonicals.pdf\n",
    "    \"\"\"\n",
    "    \n",
    "    n = len(a) - 1\n",
    "    m = len(b) - 1\n",
    "\n",
    "    # This routine will only work for proper systems (meaning higher power of s in denom than in numerator)\n",
    "    assert n >= m\n",
    "\n",
    "    # To treat the coefficient lists similarly, we add zeros as the\n",
    "    # coefficients of the higher orders in the numerator\n",
    "    b = list(np.zeros(n - m)) + b\n",
    "\n",
    "    # We reverse the coefficients\n",
    "    a_rev = np.atleast_2d(a[:0:-1])/a[0]\n",
    "    b_rev = np.atleast_2d(b[:0:-1])/a[0]\n",
    "\n",
    "    # We stack a column of zeros, the diagonal ones and the reversed\n",
    "    # coefficients into A\n",
    "    A = np.bmat([[np.zeros((n-1, 1)), np.eye(n-1)],\n",
    "                  [-a_rev]])\n",
    "\n",
    "    # B is zero with a one at the bottom\n",
    "    B = np.asmatrix(np.zeros((n, 1)))\n",
    "    B[-1, 0] = 1\n",
    "\n",
    "    C = np.asmatrix(b_rev - a_rev*b[0]/a[0])\n",
    "\n",
    "    D = np.asmatrix(b[0]/a[0])\n",
    "    \n",
    "    return A, B, C, D\n",
    "\n",
    "b = [1, 3, 2]\n",
    "a = [1, 12, 47, 60]\n",
    "\n",
    "A, B, C, D = controllable_canonical_form(b, a)\n",
    "\n",
    "# time points\n",
    "Npoints = 1000\n",
    "starttime = 0\n",
    "endtime = 3\n",
    "tspan = np.linspace(starttime, endtime, Npoints)\n",
    "dt = tspan[1] - tspan[0]\n",
    "\n",
    "Nstates = A.shape[1]\n",
    "Noutputs = C.shape[0]\n",
    "\n",
    "x = np.zeros((Nstates, 1))\n",
    "\n",
    "yplot = np.zeros((Npoints, Noutputs))\n",
    "\n",
    "# step response\n",
    "u = 1\n",
    "\n",
    "for i, t in enumerate(tspan):\n",
    "    dxdt = A*x + B*u\n",
    "\n",
    "    y = C*x + D*u\n",
    "\n",
    "    # Euler integration\n",
    "    x += dxdt*dt\n",
    "\n",
    "    # store values\n",
    "    yplot[i, :] = y\n",
    "\n",
    "y_analytic = 1/30*np.exp(-5*tspan)*(45*np.exp(tspan)\n",
    "                                    - 10*np.exp(2*tspan)\n",
    "                                    + np.exp(5*tspan)\n",
    "                                    - 36)\n",
    "# plot result\n",
    "plt.plot(tspan, yplot, label='Numeric')\n",
    "plt.plot(tspan, y_analytic, label='Analytic')\n",
    "plt.legend()\n",
    "plt.show()"
   ]
  },
  {
   "cell_type": "code",
   "execution_count": 2,
   "metadata": {
    "collapsed": false
   },
   "outputs": [
    {
     "data": {
      "text/plain": [
       "[1, 12, 47, 60]"
      ]
     },
     "execution_count": 2,
     "metadata": {},
     "output_type": "execute_result"
    }
   ],
   "source": [
    "a\n"
   ]
  },
  {
   "cell_type": "code",
   "execution_count": 11,
   "metadata": {
    "collapsed": false
   },
   "outputs": [],
   "source": [
    "x = np.arange(3.)\n",
    "y = np.arange(3.)\n",
    "z = np.array([x,y])"
   ]
  },
  {
   "cell_type": "code",
   "execution_count": 14,
   "metadata": {
    "collapsed": false
   },
   "outputs": [
    {
     "data": {
      "text/plain": [
       "array([[[ 0.],\n",
       "        [ 1.],\n",
       "        [ 2.]],\n",
       "\n",
       "       [[ 0.],\n",
       "        [ 1.],\n",
       "        [ 2.]]])"
      ]
     },
     "execution_count": 14,
     "metadata": {},
     "output_type": "execute_result"
    }
   ],
   "source": [
    "np.atleast_3d(z)"
   ]
  },
  {
   "cell_type": "code",
   "execution_count": 12,
   "metadata": {
    "collapsed": false
   },
   "outputs": [
    {
     "data": {
      "text/plain": [
       "array([[ 0.,  1.,  2.],\n",
       "       [ 0.,  1.,  2.]])"
      ]
     },
     "execution_count": 12,
     "metadata": {},
     "output_type": "execute_result"
    }
   ],
   "source": [
    "z"
   ]
  },
  {
   "cell_type": "code",
   "execution_count": 15,
   "metadata": {
    "collapsed": false
   },
   "outputs": [
    {
     "data": {
      "text/plain": [
       "array([ 0.,  1.,  2.])"
      ]
     },
     "execution_count": 15,
     "metadata": {},
     "output_type": "execute_result"
    }
   ],
   "source": [
    "x"
   ]
  },
  {
   "cell_type": "code",
   "execution_count": 38,
   "metadata": {
    "collapsed": false
   },
   "outputs": [
    {
     "ename": "SyntaxError",
     "evalue": "invalid syntax (<ipython-input-38-6a9d6b6fb7c1>, line 1)",
     "output_type": "error",
     "traceback": [
      "\u001b[0;36m  File \u001b[0;32m\"<ipython-input-38-6a9d6b6fb7c1>\"\u001b[0;36m, line \u001b[0;32m1\u001b[0m\n\u001b[0;31m    x[]\u001b[0m\n\u001b[0m      ^\u001b[0m\n\u001b[0;31mSyntaxError\u001b[0m\u001b[0;31m:\u001b[0m invalid syntax\n"
     ]
    }
   ],
   "source": [
    "x[]"
   ]
  },
  {
   "cell_type": "code",
   "execution_count": 39,
   "metadata": {
    "collapsed": false
   },
   "outputs": [
    {
     "data": {
      "text/plain": [
       "[1, 12, 47, 60]"
      ]
     },
     "execution_count": 39,
     "metadata": {},
     "output_type": "execute_result"
    }
   ],
   "source": [
    "a"
   ]
  },
  {
   "cell_type": "code",
   "execution_count": 41,
   "metadata": {
    "collapsed": false
   },
   "outputs": [
    {
     "data": {
      "text/plain": [
       "[60, 47, 12]"
      ]
     },
     "execution_count": 41,
     "metadata": {},
     "output_type": "execute_result"
    }
   ],
   "source": [
    "a[:0:-1]"
   ]
  },
  {
   "cell_type": "code",
   "execution_count": 59,
   "metadata": {
    "collapsed": false
   },
   "outputs": [],
   "source": [
    "y=np.zeros((50,3))"
   ]
  },
  {
   "cell_type": "code",
   "execution_count": 65,
   "metadata": {
    "collapsed": false
   },
   "outputs": [],
   "source": [
    "y[1,:] = 1,2,3"
   ]
  },
  {
   "cell_type": "code",
   "execution_count": 64,
   "metadata": {
    "collapsed": false
   },
   "outputs": [
    {
     "data": {
      "text/plain": [
       "array([ 0.,  0.,  0.])"
      ]
     },
     "execution_count": 64,
     "metadata": {},
     "output_type": "execute_result"
    }
   ],
   "source": [
    "y[1"
   ]
  },
  {
   "cell_type": "code",
   "execution_count": null,
   "metadata": {
    "collapsed": true
   },
   "outputs": [],
   "source": []
  }
 ],
 "metadata": {
  "kernelspec": {
   "display_name": "Python 3",
   "language": "python",
   "name": "python3"
  },
  "language_info": {
   "codemirror_mode": {
    "name": "ipython",
    "version": 3
   },
   "file_extension": ".py",
   "mimetype": "text/x-python",
   "name": "python",
   "nbconvert_exporter": "python",
   "pygments_lexer": "ipython3",
   "version": "3.6.0"
  }
 },
 "nbformat": 4,
 "nbformat_minor": 0
}
